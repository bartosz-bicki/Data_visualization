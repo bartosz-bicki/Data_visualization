{
  "nbformat": 4,
  "nbformat_minor": 0,
  "metadata": {
    "colab": {
      "name": "Sales_1.ipynb",
      "provenance": [],
      "collapsed_sections": [],
      "authorship_tag": "ABX9TyMKQj3p5wV6J8lmFiV2Hrlx",
      "include_colab_link": true
    },
    "kernelspec": {
      "name": "python3",
      "display_name": "Python 3"
    }
  },
  "cells": [
    {
      "cell_type": "markdown",
      "metadata": {
        "id": "view-in-github",
        "colab_type": "text"
      },
      "source": [
        "<a href=\"https://colab.research.google.com/github/bartosz-bicki/Data_visualization/blob/master/Sales_1.ipynb\" target=\"_parent\"><img src=\"https://colab.research.google.com/assets/colab-badge.svg\" alt=\"Open In Colab\"/></a>"
      ]
    },
    {
      "cell_type": "code",
      "metadata": {
        "id": "RT0-akZZ3HCw",
        "colab_type": "code",
        "colab": {}
      },
      "source": [
        "import pandas as pd \n",
        "\n",
        "data_file = pd.read_csv('sales.csv')\n"
      ],
      "execution_count": 1,
      "outputs": []
    },
    {
      "cell_type": "code",
      "metadata": {
        "id": "gD-vcHlA446f",
        "colab_type": "code",
        "colab": {}
      },
      "source": [
        "df = data_file.copy()\n",
        "df.info()"
      ],
      "execution_count": null,
      "outputs": []
    },
    {
      "cell_type": "code",
      "metadata": {
        "id": "Yx1lZixY5Hcp",
        "colab_type": "code",
        "colab": {}
      },
      "source": [
        "df = df.drop(columns=['title', 'currency_buyer', 'uses_ad_boosts','rating_four_count', 'rating_three_count', 'rating_two_count', 'rating_one_count', 'badges_count', 'badge_local_product', 'badge_product_quality', 'badge_fast_shipping', 'tags', 'shipping_is_express', 'has_urgency_banner', 'urgency_text', 'merchant_title', 'merchant_info_subtitle', 'merchant_rating_count', 'merchant_rating', 'merchant_has_profile_picture', 'merchant_profile_picture', 'product_url', 'product_picture', 'product_id', 'theme', 'crawl_month','merchant_id' ])"
      ],
      "execution_count": 3,
      "outputs": []
    },
    {
      "cell_type": "code",
      "metadata": {
        "id": "e--1hn8u8pHS",
        "colab_type": "code",
        "colab": {
          "base_uri": "https://localhost:8080/",
          "height": 632
        },
        "outputId": "9ca54e9f-e733-4288-aba8-de41c898dfa7"
      },
      "source": [
        "df.head()"
      ],
      "execution_count": 4,
      "outputs": [
        {
          "output_type": "execute_result",
          "data": {
            "text/html": [
              "<div>\n",
              "<style scoped>\n",
              "    .dataframe tbody tr th:only-of-type {\n",
              "        vertical-align: middle;\n",
              "    }\n",
              "\n",
              "    .dataframe tbody tr th {\n",
              "        vertical-align: top;\n",
              "    }\n",
              "\n",
              "    .dataframe thead th {\n",
              "        text-align: right;\n",
              "    }\n",
              "</style>\n",
              "<table border=\"1\" class=\"dataframe\">\n",
              "  <thead>\n",
              "    <tr style=\"text-align: right;\">\n",
              "      <th></th>\n",
              "      <th>title_orig</th>\n",
              "      <th>price</th>\n",
              "      <th>retail_price</th>\n",
              "      <th>units_sold</th>\n",
              "      <th>rating</th>\n",
              "      <th>rating_count</th>\n",
              "      <th>rating_five_count</th>\n",
              "      <th>product_color</th>\n",
              "      <th>product_variation_size_id</th>\n",
              "      <th>product_variation_inventory</th>\n",
              "      <th>shipping_option_name</th>\n",
              "      <th>shipping_option_price</th>\n",
              "      <th>countries_shipped_to</th>\n",
              "      <th>inventory_total</th>\n",
              "      <th>origin_country</th>\n",
              "      <th>merchant_name</th>\n",
              "    </tr>\n",
              "  </thead>\n",
              "  <tbody>\n",
              "    <tr>\n",
              "      <th>0</th>\n",
              "      <td>2020 Summer Vintage Flamingo Print  Pajamas Se...</td>\n",
              "      <td>16.00</td>\n",
              "      <td>14</td>\n",
              "      <td>100</td>\n",
              "      <td>3.76</td>\n",
              "      <td>54</td>\n",
              "      <td>26.0</td>\n",
              "      <td>white</td>\n",
              "      <td>M</td>\n",
              "      <td>50</td>\n",
              "      <td>Livraison standard</td>\n",
              "      <td>4</td>\n",
              "      <td>34</td>\n",
              "      <td>50</td>\n",
              "      <td>CN</td>\n",
              "      <td>zgrdejia</td>\n",
              "    </tr>\n",
              "    <tr>\n",
              "      <th>1</th>\n",
              "      <td>Women's Casual Summer Sleeveless Sexy Mini Dress</td>\n",
              "      <td>8.00</td>\n",
              "      <td>22</td>\n",
              "      <td>20000</td>\n",
              "      <td>3.45</td>\n",
              "      <td>6135</td>\n",
              "      <td>2269.0</td>\n",
              "      <td>green</td>\n",
              "      <td>XS</td>\n",
              "      <td>50</td>\n",
              "      <td>Livraison standard</td>\n",
              "      <td>2</td>\n",
              "      <td>41</td>\n",
              "      <td>50</td>\n",
              "      <td>CN</td>\n",
              "      <td>sarahouse</td>\n",
              "    </tr>\n",
              "    <tr>\n",
              "      <th>2</th>\n",
              "      <td>2020 New Arrival Women Spring and Summer Beach...</td>\n",
              "      <td>8.00</td>\n",
              "      <td>43</td>\n",
              "      <td>100</td>\n",
              "      <td>3.57</td>\n",
              "      <td>14</td>\n",
              "      <td>5.0</td>\n",
              "      <td>leopardprint</td>\n",
              "      <td>XS</td>\n",
              "      <td>1</td>\n",
              "      <td>Livraison standard</td>\n",
              "      <td>3</td>\n",
              "      <td>36</td>\n",
              "      <td>50</td>\n",
              "      <td>CN</td>\n",
              "      <td>hxt520</td>\n",
              "    </tr>\n",
              "    <tr>\n",
              "      <th>3</th>\n",
              "      <td>Hot Summer Cool T Shirt for Women Fashion Tops...</td>\n",
              "      <td>8.00</td>\n",
              "      <td>8</td>\n",
              "      <td>5000</td>\n",
              "      <td>4.03</td>\n",
              "      <td>579</td>\n",
              "      <td>295.0</td>\n",
              "      <td>black</td>\n",
              "      <td>M</td>\n",
              "      <td>50</td>\n",
              "      <td>Livraison standard</td>\n",
              "      <td>2</td>\n",
              "      <td>41</td>\n",
              "      <td>50</td>\n",
              "      <td>CN</td>\n",
              "      <td>allenfan</td>\n",
              "    </tr>\n",
              "    <tr>\n",
              "      <th>4</th>\n",
              "      <td>Women Summer Shorts Lace Up Elastic Waistband ...</td>\n",
              "      <td>2.72</td>\n",
              "      <td>3</td>\n",
              "      <td>100</td>\n",
              "      <td>3.10</td>\n",
              "      <td>20</td>\n",
              "      <td>6.0</td>\n",
              "      <td>yellow</td>\n",
              "      <td>S</td>\n",
              "      <td>1</td>\n",
              "      <td>Livraison standard</td>\n",
              "      <td>1</td>\n",
              "      <td>35</td>\n",
              "      <td>50</td>\n",
              "      <td>CN</td>\n",
              "      <td>happyhorses</td>\n",
              "    </tr>\n",
              "  </tbody>\n",
              "</table>\n",
              "</div>"
            ],
            "text/plain": [
              "                                          title_orig  ...  merchant_name\n",
              "0  2020 Summer Vintage Flamingo Print  Pajamas Se...  ...       zgrdejia\n",
              "1   Women's Casual Summer Sleeveless Sexy Mini Dress  ...      sarahouse\n",
              "2  2020 New Arrival Women Spring and Summer Beach...  ...         hxt520\n",
              "3  Hot Summer Cool T Shirt for Women Fashion Tops...  ...       allenfan\n",
              "4  Women Summer Shorts Lace Up Elastic Waistband ...  ...    happyhorses\n",
              "\n",
              "[5 rows x 16 columns]"
            ]
          },
          "metadata": {
            "tags": []
          },
          "execution_count": 4
        }
      ]
    },
    {
      "cell_type": "code",
      "metadata": {
        "id": "axcFlbfn8-TB",
        "colab_type": "code",
        "colab": {
          "base_uri": "https://localhost:8080/",
          "height": 34
        },
        "outputId": "368ee5ec-b61c-4c3e-aaac-5a34bd4b77f3"
      },
      "source": [
        "import plotly.express as px\n",
        "df_grouped_color = df.groupby('product_color').sum()\n"
      ],
      "execution_count": 16,
      "outputs": [
        {
          "output_type": "execute_result",
          "data": {
            "text/plain": [
              "<pandas.core.groupby.generic.DataFrameGroupBy object at 0x7f97608eab70>"
            ]
          },
          "metadata": {
            "tags": []
          },
          "execution_count": 16
        }
      ]
    },
    {
      "cell_type": "code",
      "metadata": {
        "id": "zjXppnxlFPwu",
        "colab_type": "code",
        "colab": {}
      },
      "source": [
        "fig = px.bar(df_grouped_color, x=df_grouped_color.index, y='units_sold',\n",
        "             labels={'units_sold': 'Sold products'})\n",
        "fig.update_traces(texttemplate='%{text:.2s}', textposition='outside')"
      ],
      "execution_count": null,
      "outputs": []
    },
    {
      "cell_type": "code",
      "metadata": {
        "id": "5pQH4bwZvjSo",
        "colab_type": "code",
        "colab": {}
      },
      "source": [
        "#df_grouped_ship_method = df.groupby('shipping_option_name').sum()\n",
        "f = df.shipping_option_name.value_counts()\n"
      ],
      "execution_count": null,
      "outputs": []
    },
    {
      "cell_type": "code",
      "metadata": {
        "id": "47r9TisRwRGb",
        "colab_type": "code",
        "colab": {}
      },
      "source": [
        "fig = px.pie(df, values=f, names=f.index,\n",
        "             title='Shipping Methods')\n",
        "fig"
      ],
      "execution_count": null,
      "outputs": []
    },
    {
      "cell_type": "code",
      "metadata": {
        "id": "dgW-OUgkvQMV",
        "colab_type": "code",
        "colab": {}
      },
      "source": [
        "df_mean = df.groupby('merchant_name').mean()\n",
        "df['total_earnings'] = df.units_sold*df.price\n",
        "df_sum = df.groupby('merchant_name').sum()\n",
        "\n",
        "dff = pd.DataFrame(data={'rating' : df_mean.rating.mean(),\n",
        "                         'rating_count' : df_sum.rating_count,\n",
        "                         'total_earn': df_sum.total_earnings, \n",
        "                          'company_name': df_mean.index})\n",
        "\n",
        "\n",
        "\n"
      ],
      "execution_count": 7,
      "outputs": []
    },
    {
      "cell_type": "code",
      "metadata": {
        "id": "nbgH0FZD1cE8",
        "colab_type": "code",
        "colab": {}
      },
      "source": [
        "fig = px.scatter(dff, x='rating', y='rating_count',\n",
        "                 size='rating', color='rating',\n",
        "                 hover_name=dff.index, log_x=True, size_max=30)"
      ],
      "execution_count": 9,
      "outputs": []
    },
    {
      "cell_type": "code",
      "metadata": {
        "id": "iLbNmrrP3htY",
        "colab_type": "code",
        "colab": {}
      },
      "source": [
        "fig = px.bar(dff, x='company_name', y='total_earn',\n",
        "             hover_name='rating', title='Total earning by every Company',\n",
        "             labels={'total_earn': 'Earnings', 'company_name': 'Company name' })\n",
        "fig.update_traces(texttemplate='%{text:.2s}', textposition='outside')\n",
        "fig "
      ],
      "execution_count": null,
      "outputs": []
    }
  ]
}